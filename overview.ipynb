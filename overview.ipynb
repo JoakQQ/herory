{
 "cells": [
  {
   "cell_type": "markdown",
   "metadata": {},
   "source": [
    "# HERORY - A Fairy Tale Story Generator\n",
    "\n",
    "HERORY is a fairy tale story aims to generate fairy tale story based on a few texts inputted by the user."
   ]
  },
  {
   "cell_type": "markdown",
   "metadata": {},
   "source": [
    "## Objectives\n",
    "\n",
    "By increasing the interest in fairy tales, this application will contribute to the development of children's imagination and language development. On the other hand, fairy tales can be considered as a global tradition. In addition, the interaction of the nations of the world with each other is increasing day by day. For these reasons, AI trained with tales from different cultures will also play a role in increasing the interaction between cultures. Thus, HERORY will allow users to meet different worlds."
   ]
  },
  {
   "cell_type": "markdown",
   "metadata": {},
   "source": [
    "## Environment setup"
   ]
  },
  {
   "cell_type": "markdown",
   "metadata": {},
   "source": [
    "To start with, you are recommended to use anaconda environment.\n",
    "\n",
    "first run `conda create --name comp3362gp8 python=3.8 -y` to create a new anaconda environment\n",
    "\n",
    "then run `conda activate comp3362gp8` to activate the anaconda environment\n"
   ]
  },
  {
   "cell_type": "markdown",
   "metadata": {},
   "source": [
    "## Packages installation\n",
    "\n",
    "After activating the environment, please install all the required packages for HERORY by running the following cell:"
   ]
  },
  {
   "cell_type": "code",
   "execution_count": null,
   "metadata": {},
   "outputs": [],
   "source": [
    "!pip install -r ./requirements.txt"
   ]
  },
  {
   "cell_type": "code",
   "execution_count": null,
   "metadata": {},
   "outputs": [],
   "source": [
    "# installing packages separately\n",
    "!pip install torch happytransformer nltk matplotlib"
   ]
  },
  {
   "cell_type": "markdown",
   "metadata": {},
   "source": [
    "## Models used in this project\n",
    "\n",
    "The models used in this project are:\n",
    "- [Unidirectional LSTM model](#model1)\n",
    "- [GPT-Neo model](#model2)\n",
    "\n",
    "Other models we have tried\n",
    "- Encoder-decoder LSTM model with attention mechanism\n",
    "- Bidirectional LSTM model"
   ]
  },
  {
   "cell_type": "markdown",
   "metadata": {},
   "source": [
    "<a id='model1'></a>\n",
    "### Unidirectional LSTM model\n",
    "\n",
    "The unidirectional LSTM model is the main model used in this project. The structure of the model is:\n",
    "\n",
    "<img src='./images/lstm_structure.jpg' width='50%'/>\n",
    "\n",
    "Pipeline:\n",
    "1. text sequence enter the word embedding layer of the model to learn the relationship between words (tokens)\n",
    "2. output of word embedding enter the stacked LSTMs to learn the structure of the sentence\n",
    "3. fully connected layer connects the output of LSTMs to generate the text"
   ]
  },
  {
   "cell_type": "markdown",
   "metadata": {},
   "source": [
    "<a id='model2'></a>\n",
    "### GPT-Neo model\n",
    "\n",
    "The GPT-Neo model used in this project is to compare with the LSTM model from HERORY.\n",
    "\n",
    "Below is the structure of a simple transformer model to illustrate how the GPT model works.\n",
    "\n",
    "<img src='./images/transformer.jpg' width='50%'/>\n",
    "\n",
    "GPT-Neo, a GPT model with GPT-3 architecture. GPT stands for Generative Pre-trained Transformer, which is a pre-trained transformer model. What makes GPT models so powerful is the attention mechanism, which in short let the model learns to pay attention to a position of a specific sentence, instead of paying attention to the previous closest words."
   ]
  },
  {
   "cell_type": "markdown",
   "metadata": {},
   "source": [
    "## Notebooks\n",
    "\n",
    "Select the following notebooks to see the results:\n",
    "\n",
    "- [HERORY - showcase](./showcase.ipynb)\n",
    "    \n",
    "- [HERORY - with training](./main.ipynb)"
   ]
  }
 ],
 "metadata": {
  "interpreter": {
   "hash": "9dea3b3a90569f5cd1b9f30e5c1c6292b6f608ad395de9563bf95f66a7fd3d33"
  },
  "kernelspec": {
   "display_name": "Python 3.9.12 64-bit (windows store)",
   "language": "python",
   "name": "python3"
  },
  "language_info": {
   "codemirror_mode": {
    "name": "ipython",
    "version": 3
   },
   "file_extension": ".py",
   "mimetype": "text/x-python",
   "name": "python",
   "nbconvert_exporter": "python",
   "pygments_lexer": "ipython3",
   "version": "3.8.12"
  },
  "orig_nbformat": 4
 },
 "nbformat": 4,
 "nbformat_minor": 2
}
