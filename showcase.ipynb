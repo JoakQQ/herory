{
 "cells": [
  {
   "cell_type": "markdown",
   "metadata": {},
   "source": [
    "# HERORY\n",
    "\n",
    "This is the HERORY notebook for showcase"
   ]
  },
  {
   "cell_type": "markdown",
   "metadata": {},
   "source": [
    "In this notebook, you will need to download the pre-trained models from Google drive in the following shared link: [google drive](https://drive.google.com/file/d/1mrLCXajiIeTTUC73EpW4mleMDCTpdso-/view?usp=sharing)\n",
    "\n",
    "The structure of the saves folder:\n",
    "\n",
    "```\n",
    "saves\n",
    "└───gpt-neo\n",
    "│   │   ...\n",
    "|   |   pytorch_model.bin (model)\n",
    "│   └─── ...\n",
    "|\n",
    "└───lstm\n",
    "    │   ...\n",
    "    │   parameters.json (model parameters)\n",
    "    |   word_dict.json (word dictionary)\n",
    "    |   lastest.pth (model state dictionary)\n",
    "    └─── ...\n",
    "```"
   ]
  },
  {
   "cell_type": "markdown",
   "metadata": {},
   "source": [
    "After downloading the pre-trained models, put the compressed file into the project directory (same directory as this notebook), run the following cells to decompress the folders."
   ]
  },
  {
   "cell_type": "code",
   "execution_count": null,
   "metadata": {},
   "outputs": [],
   "source": [
    "# decompress the compressed file into the 'saves' folder\n",
    "!tar xvzf saves.tar.gz"
   ]
  },
  {
   "cell_type": "markdown",
   "metadata": {},
   "source": [
    "## Loading models"
   ]
  },
  {
   "cell_type": "markdown",
   "metadata": {},
   "source": [
    "### Unidirectional LSTM model from HERORY"
   ]
  },
  {
   "cell_type": "code",
   "execution_count": 1,
   "metadata": {},
   "outputs": [
    {
     "name": "stdout",
     "output_type": "stream",
     "text": [
      "Loading existing word dictionary from ./saves/lstm/word_dict.json ...\n"
     ]
    }
   ],
   "source": [
    "import torch\n",
    "from herory.data import Tokenizer, FileLoader\n",
    "from herory.model import LSTM, get_model_parameters\n",
    "\n",
    "device = torch.device('cuda' if torch.cuda.is_available() else 'cpu')\n",
    "\n",
    "# initialize tokenizer\n",
    "tokenizer = Tokenizer()\n",
    "\n",
    "# initialize file folder\n",
    "fl = FileLoader(tokenizer=tokenizer)\n",
    "\n",
    "# load word dictionary to tokenizer\n",
    "fl.load_exist_dict(path='./saves/lstm/word_dict.json')\n",
    "\n",
    "# load model parameters\n",
    "parameters = get_model_parameters(path=\"./saves/lstm/parameters.json\")\n",
    "\n",
    "# initialize model (LSTM)\n",
    "lstm = LSTM(\n",
    "    num_vocab=parameters['num_vocab'],\n",
    "    hidden_size=parameters['hidden_size'],\n",
    "    embedding_dim=parameters['embedding_dim'],\n",
    "    num_layers=parameters['num_layers'],\n",
    "    device=device\n",
    "    )\n",
    "\n",
    "# load model\n",
    "lstm.load_state_dict(torch.load('./saves/lstm/lastest.pth'))\n",
    "\n",
    "checkpoints_dir = parameters['checkpoints_dir']"
   ]
  },
  {
   "cell_type": "markdown",
   "metadata": {},
   "source": [
    "### GPT-Neo model\n",
    "GPT-Neo 125M pararmeters"
   ]
  },
  {
   "cell_type": "code",
   "execution_count": 2,
   "metadata": {},
   "outputs": [
    {
     "name": "stderr",
     "output_type": "stream",
     "text": [
      "04/21/2022 21:42:28 - INFO - happytransformer.happy_transformer -   Using model: cuda\n"
     ]
    }
   ],
   "source": [
    "from happytransformer import HappyGeneration\n",
    "\n",
    "generator = HappyGeneration(load_path=\"./saves/gpt-neo\")"
   ]
  },
  {
   "cell_type": "markdown",
   "metadata": {},
   "source": [
    "## Evaluation and results"
   ]
  },
  {
   "cell_type": "markdown",
   "metadata": {},
   "source": [
    "### Losses for LSTM model"
   ]
  },
  {
   "cell_type": "code",
   "execution_count": 5,
   "metadata": {},
   "outputs": [],
   "source": [
    "import os\n",
    "\n",
    "losses_files = []\n",
    "avg_losses_files = []\n",
    "\n",
    "for file in os.listdir('./saves/lstm'):\n",
    "    if file.split('-')[-1] == 'losses.pt':\n",
    "        losses_files.append((int(file.split('-')[0]), file))\n",
    "    if file.split('-')[-1] == 'avg_losses.pt':\n",
    "        avg_losses_files.append((int(file.split('-')[0]), file))\n",
    "\n",
    "losses_files.sort()\n",
    "avg_losses_files.sort()"
   ]
  },
  {
   "cell_type": "code",
   "execution_count": 6,
   "metadata": {},
   "outputs": [
    {
     "data": {
      "image/png": "[encoded data removed]",
      "text/plain": [
       "<Figure size 432x288 with 1 Axes>"
      ]
     },
     "metadata": {
      "needs_background": "light"
     },
     "output_type": "display_data"
    },
    {
     "data": {
      "image/png": "[encoded data removed]",
      "text/plain": [
       "<Figure size 432x288 with 1 Axes>"
      ]
     },
     "metadata": {
      "needs_background": "light"
     },
     "output_type": "display_data"
    }
   ],
   "source": [
    "import matplotlib.pyplot as plt\n",
    "import os\n",
    "\n",
    "avg_losses = []\n",
    "for _, file in avg_losses_files:\n",
    "    avg_losses += torch.load(os.path.join(checkpoints_dir, file))\n",
    "\n",
    "plt.title('average losses')\n",
    "plt.plot(avg_losses)\n",
    "plt.xlabel('number of epochs')\n",
    "plt.ylabel('loss')\n",
    "plt.show()\n",
    "\n",
    "losses = []\n",
    "for _, file in losses_files:\n",
    "    losses += torch.load(os.path.join(checkpoints_dir, file))\n",
    "\n",
    "plt.title('losses')\n",
    "plt.plot(losses)\n",
    "plt.xlabel('number of iterations')\n",
    "plt.ylabel('loss')\n",
    "plt.show()"
   ]
  },
  {
   "cell_type": "markdown",
   "metadata": {},
   "source": [
    "### Results on both models"
   ]
  },
  {
   "cell_type": "code",
   "execution_count": 15,
   "metadata": {},
   "outputs": [
    {
     "name": "stdout",
     "output_type": "stream",
     "text": [
      "Your input: the devil\n"
     ]
    }
   ],
   "source": [
    "input_text = input()\n",
    "\n",
    "print('Your input:', input_text)"
   ]
  },
  {
   "cell_type": "markdown",
   "metadata": {},
   "source": [
    "#### Unidirectional LSTM model"
   ]
  },
  {
   "cell_type": "code",
   "execution_count": 16,
   "metadata": {},
   "outputs": [
    {
     "name": "stdout",
     "output_type": "stream",
     "text": [
      "the <unk> ; but as usual so making his son , without into it . the ways gave some use back they were born ; hoo the sultan , and threw hold for snaky arm near and treated that the bushes was thinking their head . but reported the dragon of what that nobody else the hollow village than nothing up above the same rest heeding than the prince . now ventured darted for a dagger was quite rid of his wife . ' oh , as they are welcomed you , when the alarmed is a leather throne , o wretched why am i sang breathless ? ' the close led in the moment the mouse , one of which was very dangerous into the edge and the money could not buy a language . meanwhile the purse . ' but what is the cock could think for us , as smart to this well . ' as he was living . on the palace ' s life , when they came to the rather ride the man as very as though we shall know . ' the quite baby the holy of his mother embroidery by the listening further with his\n"
     ]
    }
   ],
   "source": [
    "import numpy as np\n",
    "import torch.nn.functional as F\n",
    "import time\n",
    "\n",
    "def predict(model, tokenizer, text, device='cpu', max_length=None):\n",
    "    start = time.time()\n",
    "    \n",
    "    model.to(device)\n",
    "    model.eval()\n",
    "\n",
    "    input_seq = tokenizer.text_to_sequence(text)\n",
    "    state_h, state_c = model.init_state(len(input_seq))\n",
    "\n",
    "    index = 0\n",
    "    while input_seq[-1] != tokenizer.get_end_token_index():\n",
    "        x = torch.tensor([input_seq[index:]]).to(device)\n",
    "        y_pred, (state_h, state_c) = model(x, (state_h, state_c))\n",
    "\n",
    "        last_word_logits = y_pred[0][-1]\n",
    "        p = F.softmax(last_word_logits, dim=0).detach().cpu().numpy()\n",
    "        word_index = np.random.choice(len(last_word_logits), p=p)\n",
    "        input_seq.append(word_index)\n",
    "        \n",
    "        if max_length !=None and index >= max_length:\n",
    "            break\n",
    "        \n",
    "        index += 1\n",
    "\n",
    "    time_taken = time.time() - start\n",
    "    return tokenizer.sequence_to_text(input_seq), time_taken\n",
    "\n",
    "res_lstm = predict(lstm, tokenizer, input_text, device=device, max_length=200)\n",
    "\n",
    "print(res_lstm[0])"
   ]
  },
  {
   "cell_type": "markdown",
   "metadata": {},
   "source": [
    "#### GPT-Neo model"
   ]
  },
  {
   "cell_type": "code",
   "execution_count": 17,
   "metadata": {},
   "outputs": [
    {
     "name": "stderr",
     "output_type": "stream",
     "text": [
      "Setting `pad_token_id` to `eos_token_id`:50256 for open-end generation.\n"
     ]
    },
    {
     "name": "stdout",
     "output_type": "stream",
     "text": [
      "the devil of God! Upon this the youth knew not what had been the cause ofhis separation; and he charged his father to keep the secret of the man to him, andto tell him that he had removed the enchanted city from his mother.So the man returned to his mother, and related to her theevent that had just befallen him, and thathis father had been lost from the battlements and slain by the black damsel, and thathis mother had been slain in a mountain and his father's death. Shewas then surrounded by people, and the Khaleefeh with his entirereason was moved to compassion for her, and he asked her advice, andacquainted her with his father's death. She replied, I know nothing of any one.'And so saying, he left her, and repented to return to her father,and informed her that he was ready to marry her on the same conditions asbefore, and that he would choose in what his father would\n"
     ]
    }
   ],
   "source": [
    "from happytransformer import GENSettings\n",
    "import time\n",
    "\n",
    "def gen_text(text):\n",
    "    start = time.time()\n",
    "    \n",
    "    # text generation settings\n",
    "    generic_sampling_settings = GENSettings(do_sample=True, top_k=0, temperature=0.9,  max_length=200)\n",
    "\n",
    "    output_generic_sampling = generator.generate_text(text, args=generic_sampling_settings)\n",
    "    \n",
    "    time_taken = time.time() - start\n",
    "    return input_text + output_generic_sampling.text, time_taken\n",
    "\n",
    "res_gpt = gen_text(input_text)\n",
    "\n",
    "print(res_gpt[0])"
   ]
  },
  {
   "cell_type": "markdown",
   "metadata": {},
   "source": [
    "### Text generation difference\n",
    "Since GPT-Neo model has 125 million parameters, the text generation time is much long than the LSTM model"
   ]
  },
  {
   "cell_type": "code",
   "execution_count": 18,
   "metadata": {},
   "outputs": [
    {
     "name": "stdout",
     "output_type": "stream",
     "text": [
      "text generation time difference:  2.0348219871520996 s\n"
     ]
    }
   ],
   "source": [
    "time_diff = res_gpt[1] - res_lstm[1]\n",
    "\n",
    "print('text generation time difference: ', time_diff, 's')"
   ]
  },
  {
   "cell_type": "markdown",
   "metadata": {},
   "source": [
    "While GPT-Neo model can only generate fixed length of texts, the HERORY model can generate a story with `<end>` token, which means the model can determine whether the story is ended."
   ]
  },
  {
   "cell_type": "code",
   "execution_count": 19,
   "metadata": {},
   "outputs": [
    {
     "name": "stdout",
     "output_type": "stream",
     "text": [
      "the <unk> he came to see the for rigging and moved , and he left ; ' now knocked it is good he were dying by milk ? still to pasture . he would be dreaming ! ' she said , ' she took the day that i go up you see for you . ' the old man it from one morning he returned , and he saw that of meat a night , when he said : ' here says , not to think , ' but the knelt never or shot , ' i have a big fire till you will he was turned , now sticks till not ask her in seeing up , but as her horse grew to him at this occasion to the country and put their son , they were to be able to not bear , as she did you carry him , saying , ' he asked , shaking as the king had burnt the tree had plainly strong behind him . when he girdle secretly in vain of which he crown , as not leant , and then she noticed a plan of their honour if he ' s out ; next neighbour was very hungry without again , was almost the servant was getting fly quickly , whom these words to tell way the checked all he could not like turned . what courtesy lost and were as fool , and tried to believe her to pay the stream , or bodies sang how to not answer , but as if anyone bowed had gone , and an idle about the golden seal , where possible into his hands ' s taking aim to himself in food by her father , who had seen which to accept so clean it , rolling for a daughter she called . in a few days the ring at once , and bid her back , and beat the forest to his father ' s hat who gave it as they had almost dead for vast palaces , if you ' s-weight always and as his face ' s young man gave the prince , and begged his son . ' now as she could . help them into the the palace should get her again , not in you are , ' said the king ; ' you can leave me that you must know how goose-boy . ' so the wedding and everything and began to care and so full . these words in the house seated , and her horns was always not because . he had a dreadful safety . ' don ' t come here yet earth , or fate will deliver the sit . what do you ! stay here or hundred neck for a great castle , i think , and give me don ' t like how i may marry you to give you my master choose us have a neighbouring pair , with all your baby , and still , ' cried the asp ; ' we have heard yourself so that his beak cry till to think . i hope my wishes the whole of the children calls over the weeping is well to be , your majesty he did . <end>\n"
     ]
    }
   ],
   "source": [
    "res_lstm = predict(lstm, tokenizer, input_text, device=device, max_length=None)\n",
    "print(res_lstm[0])"
   ]
  },
  {
   "cell_type": "code",
   "execution_count": null,
   "metadata": {},
   "outputs": [],
   "source": []
  }
 ],
 "metadata": {
  "interpreter": {
   "hash": "3b71b36528e58f1079a8ae7ceeb0acb66bd74fdc31be0342d3e406010b8a6e3e"
  },
  "kernelspec": {
   "display_name": "Python 3.8.12 ('cuda')",
   "language": "python",
   "name": "python3"
  },
  "language_info": {
   "codemirror_mode": {
    "name": "ipython",
    "version": 3
   },
   "file_extension": ".py",
   "mimetype": "text/x-python",
   "name": "python",
   "nbconvert_exporter": "python",
   "pygments_lexer": "ipython3",
   "version": "3.8.12"
  },
  "orig_nbformat": 4
 },
 "nbformat": 4,
 "nbformat_minor": 2
}
